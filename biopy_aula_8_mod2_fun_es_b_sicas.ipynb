{
  "nbformat": 4,
  "nbformat_minor": 0,
  "metadata": {
    "colab": {
      "provenance": [],
      "authorship_tag": "ABX9TyMDSppHY2uvkw7l1WGE7jvG",
      "include_colab_link": true
    },
    "kernelspec": {
      "name": "python3",
      "display_name": "Python 3"
    },
    "language_info": {
      "name": "python"
    }
  },
  "cells": [
    {
      "cell_type": "markdown",
      "metadata": {
        "id": "view-in-github",
        "colab_type": "text"
      },
      "source": [
        "<a href=\"https://colab.research.google.com/github/CarolinaBio2/python-fun-es-b-sicas-com-o-biopython/blob/main/biopy_aula_8_mod2_fun_es_b_sicas.ipynb\" target=\"_parent\"><img src=\"https://colab.research.google.com/assets/colab-badge.svg\" alt=\"Open In Colab\"/></a>"
      ]
    },
    {
      "cell_type": "code",
      "execution_count": null,
      "metadata": {
        "colab": {
          "base_uri": "https://localhost:8080/"
        },
        "id": "aOmY-Gpb6WTk",
        "outputId": "eae5f3f2-8c2a-41e4-e2f5-3a3149ca2a89"
      },
      "outputs": [
        {
          "output_type": "stream",
          "name": "stdout",
          "text": [
            "Collecting biopython\n",
            "  Downloading biopython-1.84-cp310-cp310-manylinux_2_17_x86_64.manylinux2014_x86_64.whl.metadata (12 kB)\n",
            "Requirement already satisfied: numpy in /usr/local/lib/python3.10/dist-packages (from biopython) (1.26.4)\n",
            "Downloading biopython-1.84-cp310-cp310-manylinux_2_17_x86_64.manylinux2014_x86_64.whl (3.2 MB)\n",
            "\u001b[2K   \u001b[90m━━━━━━━━━━━━━━━━━━━━━━━━━━━━━━━━━━━━━━━━\u001b[0m \u001b[32m3.2/3.2 MB\u001b[0m \u001b[31m20.9 MB/s\u001b[0m eta \u001b[36m0:00:00\u001b[0m\n",
            "\u001b[?25hInstalling collected packages: biopython\n",
            "Successfully installed biopython-1.84\n"
          ]
        }
      ],
      "source": [
        "pip install biopython"
      ]
    },
    {
      "cell_type": "code",
      "source": [
        "import Bio"
      ],
      "metadata": {
        "id": "Ca0esCXq7Bul"
      },
      "execution_count": null,
      "outputs": []
    },
    {
      "cell_type": "code",
      "source": [
        "from Bio.Seq import Seq\n",
        "from Bio.SeqUtils import gc_fraction\n",
        "myseq = Seq(\"ATGCCCGTAGCGGATTAAGCGT\")\n",
        "ref = Seq(\"AATTGGCATT\")\n",
        "#CONCATERNAR\n",
        "concat = myseq + ref\n",
        "print(concat)\n",
        "#CONTANDO NUMERO DE ELEMENTOS\n",
        "a_count = myseq.count(\"A\")  #a_count está definindo uma variável\n",
        "t_count = myseq.count(\"T\")\n",
        "c_count = myseq.count(\"C\")\n",
        "g_count = myseq.count(\"G\")\n",
        "print(a_count, t_count, c_count, g_count)\n",
        "len(myseq)\n",
        "GC_content = gc_fraction(myseq)\n",
        "print(GC_content)"
      ],
      "metadata": {
        "colab": {
          "base_uri": "https://localhost:8080/"
        },
        "id": "67MgwIml7IoP",
        "outputId": "f2d61e47-8415-4f21-aff0-9f3b3529e6aa"
      },
      "execution_count": null,
      "outputs": [
        {
          "output_type": "stream",
          "name": "stdout",
          "text": [
            "ATGCCCGTAGCGGATTAAGCGTAATTGGCATT\n",
            "5 5 5 7\n",
            "0.5454545454545454\n"
          ]
        }
      ]
    },
    {
      "cell_type": "code",
      "source": [
        "#Laços e condicionais\n",
        "for base in myseq:\n",
        "  if base == \"A\":\n",
        "    print(\"Base Adenina\") #a base A (adenina) aparece cinco vezes na my seq, então ela foi impressa cinco vezes\n",
        "  else:\n",
        "    print(\"Outra Base\")"
      ],
      "metadata": {
        "colab": {
          "base_uri": "https://localhost:8080/"
        },
        "id": "lFUe9euatGlm",
        "outputId": "fcefd1b1-554a-47cc-a54c-99bb9959552f"
      },
      "execution_count": null,
      "outputs": [
        {
          "output_type": "stream",
          "name": "stdout",
          "text": [
            "Base Adenina\n",
            "Outra Base\n",
            "Outra Base\n",
            "Outra Base\n",
            "Outra Base\n",
            "Outra Base\n",
            "Outra Base\n",
            "Outra Base\n",
            "Base Adenina\n",
            "Outra Base\n",
            "Outra Base\n",
            "Outra Base\n",
            "Outra Base\n",
            "Base Adenina\n",
            "Outra Base\n",
            "Outra Base\n",
            "Base Adenina\n",
            "Base Adenina\n",
            "Outra Base\n",
            "Outra Base\n",
            "Outra Base\n",
            "Outra Base\n"
          ]
        }
      ]
    },
    {
      "cell_type": "code",
      "source": [
        "#Comparando\n",
        "myseq = Seq(\"ATGCCCGTAGCGGATTAAGCGT\")\n",
        "ref = Seq(\"AATTGGCATT\")\n",
        "if myseq == ref:\n",
        "  print(\"sequências iguais\")  #só são impressas as afirmações verdadeiras, por isso que aqui não houve resposta,pois myseq é diferente de ref\n",
        "else:\n",
        "  print(\"sequências diferentes\")\n",
        "if myseq in ref:\n",
        "  print(\"sequência encontrada\")\n",
        "else:\n",
        "  print(\"sequência não encontrada\") #myseq não está contida em ref; mas nesses casos é importante fazer um BLAST contra um BD's ou outra seq apresentada para aferir a homologia\n",
        "  #as sequencias podem ser diferentes do ponto de vista de espécie e afins, mas executar a mesma função"
      ],
      "metadata": {
        "id": "feliMB2FvF1w",
        "colab": {
          "base_uri": "https://localhost:8080/"
        },
        "outputId": "058fb358-ab85-4f92-ded7-4b34838addee"
      },
      "execution_count": null,
      "outputs": [
        {
          "output_type": "stream",
          "name": "stdout",
          "text": [
            "sequências diferentes\n",
            "sequência não encontrada\n"
          ]
        }
      ]
    },
    {
      "cell_type": "code",
      "source": [
        "#Slicing\n",
        "print(myseq)\n",
        "print(myseq[0]) #primeiro elemento da myseq\n",
        "print(myseq[-1]) #último elemento da myseq\n",
        "print(myseq[0:5]) #do primeiro ao quinto elemento da my seq"
      ],
      "metadata": {
        "colab": {
          "base_uri": "https://localhost:8080/"
        },
        "id": "9cz__ft81GYC",
        "outputId": "5e246bf1-7223-454b-ade7-ee4af8dc3c74"
      },
      "execution_count": null,
      "outputs": [
        {
          "output_type": "stream",
          "name": "stdout",
          "text": [
            "ATGCCCGTAGCGGATTAAGCGT\n",
            "A\n",
            "T\n",
            "ATGCC\n"
          ]
        }
      ]
    },
    {
      "cell_type": "code",
      "source": [
        "#Concatenando contigs *contigs são pedaços de genomas incompletos, e antes de juntar esses contigs, é necessário saber quantos nucleotídeos está faltando, e se é possível juntar\n",
        "contigs = [Seq(\"AAA\"), Seq(\"TTT\"), Seq(\"GGGG\")]\n",
        "spacer = Seq(\"N\"*5) #N representa uma sequência não definida que queremos repetir cinco vezes nesse caso\n",
        "scaffold = spacer.join(contigs)\n",
        "print(scaffold) #as letras N seq não definidas serão inseridas nos \"espaços\" da variável contig\n"
      ],
      "metadata": {
        "colab": {
          "base_uri": "https://localhost:8080/"
        },
        "id": "OQxfICwe2x5q",
        "outputId": "603331d1-bdfb-4703-b4f2-cd92600af0d4"
      },
      "execution_count": null,
      "outputs": [
        {
          "output_type": "stream",
          "name": "stdout",
          "text": [
            "AAANNNNNTTTNNNNNGGGG\n"
          ]
        }
      ]
    }
  ]
}